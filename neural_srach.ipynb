{
 "cells": [
  {
   "cell_type": "code",
   "execution_count": 1,
   "id": "463e0bf7-33cd-4167-8c48-4451875665f8",
   "metadata": {},
   "outputs": [],
   "source": [
    "import numpy as np\n",
    "import matplotlib.pyplot as plt\n",
    "from sklearn.datasets import load_iris\n",
    "from sklearn.model_selection import train_test_split\n",
    "from sklearn.preprocessing import OneHotEncoder"
   ]
  },
  {
   "cell_type": "code",
   "execution_count": 2,
   "id": "ad113cc1-4cfb-472a-8827-a79b08031d40",
   "metadata": {},
   "outputs": [],
   "source": [
    "# Sigmoid activation function\n",
    "def sigmoid(x):\n",
    "    return 1 / (1 + np.exp(-x))\n",
    "\n",
    "# Softmax function\n",
    "def softmax(x):\n",
    "    exp_scores = np.exp(x - np.max(x, axis=1, keepdims=True))\n",
    "    return exp_scores / np.sum(exp_scores, axis=1, keepdims=True)"
   ]
  },
  {
   "cell_type": "code",
   "execution_count": 3,
   "id": "c901fc82-a9ef-4801-859e-05b88f968a0b",
   "metadata": {},
   "outputs": [],
   "source": [
    "\n",
    "# Cross-entropy loss function with sigmoid activation\n",
    "def sigmoid_cross_entropy_loss(y_true, y_pred):\n",
    "    epsilon = 1e-10\n",
    "    y_pred = np.clip(y_pred, epsilon, 1.0 - epsilon)\n",
    "    return -np.sum(y_true * np.log(y_pred) + (1 - y_true) * np.log(1 - y_pred)) / len(y_true)\n",
    "\n",
    "# Cross-entropy loss function with softmax activation\n",
    "def softmax_cross_entropy_loss(y_true, y_pred):\n",
    "    epsilon = 1e-10\n",
    "    y_pred = np.clip(y_pred, epsilon, 1.0 - epsilon)\n",
    "    return -np.sum(y_true * np.log(y_pred)) / len(y_true)"
   ]
  },
  {
   "cell_type": "code",
   "execution_count": 4,
   "id": "01353b38-b8d2-4775-a76a-2c7958ebf984",
   "metadata": {},
   "outputs": [],
   "source": [
    "\n",
    "# Neural network class with sigmoid activation\n",
    "class SigmoidNeuralNetwork:\n",
    "    def __init__(self, input_size, hidden_size, output_size):\n",
    "        self.W1 = np.random.randn(input_size, hidden_size)\n",
    "        self.b1 = np.zeros((1, hidden_size))\n",
    "        self.W2 = np.random.randn(hidden_size, output_size)\n",
    "        self.b2 = np.zeros((1, output_size))\n",
    "        self.learning_rate = 0.1\n",
    "\n",
    "    def forward(self, X):\n",
    "        self.z1 = np.dot(X, self.W1) + self.b1\n",
    "        self.a1 = sigmoid(self.z1)\n",
    "        self.z2 = np.dot(self.a1, self.W2) + self.b2\n",
    "        self.a2 = sigmoid(self.z2)  # Sigmoid activation in output layer\n",
    "        return self.a2\n",
    "\n",
    "    def backward(self, X, y):\n",
    "        m = X.shape[0]\n",
    "        delta2 = self.a2 - y\n",
    "        dW2 = np.dot(self.a1.T, delta2) / m\n",
    "        db2 = np.sum(delta2, axis=0, keepdims=True) / m\n",
    "        delta1 = np.dot(delta2, self.W2.T) * self.a1 * (1 - self.a1)\n",
    "        dW1 = np.dot(X.T, delta1) / m\n",
    "        db1 = np.sum(delta1, axis=0, keepdims=True) / m\n",
    "\n",
    "        self.W2 -= self.learning_rate * dW2\n",
    "        self.b2 -= self.learning_rate * db2\n",
    "        self.W1 -= self.learning_rate * dW1\n",
    "        self.b1 -= self.learning_rate * db1\n",
    "\n",
    "    def predict(self, X):\n",
    "        y_pred = self.forward(X)\n",
    "        return np.argmax(y_pred, axis=1)\n",
    "\n",
    "# Neural network class with softmax activation\n",
    "class SoftmaxNeuralNetwork:\n",
    "    def __init__(self, input_size, hidden_size, output_size):\n",
    "        self.W1 = np.random.randn(input_size, hidden_size)\n",
    "        self.b1 = np.zeros((1, hidden_size))\n",
    "        self.W2 = np.random.randn(hidden_size, output_size)\n",
    "        self.b2 = np.zeros((1, output_size))\n",
    "        self.learning_rate = 0.1\n",
    "\n",
    "    def forward(self, X):\n",
    "        self.z1 = np.dot(X, self.W1) + self.b1\n",
    "        self.a1 = sigmoid(self.z1)\n",
    "        self.z2 = np.dot(self.a1, self.W2) + self.b2\n",
    "        self.a2 = softmax(self.z2)  # Softmax activation in output layer\n",
    "        return self.a2\n",
    "\n",
    "    def backward(self, X, y):\n",
    "        m = X.shape[0]\n",
    "        delta2 = self.a2 - y\n",
    "        dW2 = np.dot(self.a1.T, delta2) / m\n",
    "        db2 = np.sum(delta2, axis=0, keepdims=True) / m\n",
    "        delta1 = np.dot(delta2, self.W2.T) * self.a1 * (1 - self.a1)\n",
    "        dW1 = np.dot(X.T, delta1) / m\n",
    "        db1 = np.sum(delta1, axis=0, keepdims=True) / m\n",
    "\n",
    "        self.W2 -= self.learning_rate * dW2\n",
    "        self.b2 -= self.learning_rate * db2\n",
    "        self.W1 -= self.learning_rate * dW1\n",
    "        self.b1 -= self.learning_rate * db1\n",
    "\n",
    "    def predict(self, X):\n",
    "        y_pred = self.forward(X)\n",
    "        return np.argmax(y_pred, axis=1)"
   ]
  },
  {
   "cell_type": "code",
   "execution_count": 5,
   "id": "9027eb67-1d01-4ad8-bfa3-b0b490b9d741",
   "metadata": {},
   "outputs": [
    {
     "name": "stderr",
     "output_type": "stream",
     "text": [
      "C:\\Users\\devpr\\AppData\\Local\\Packages\\PythonSoftwareFoundation.Python.3.11_qbz5n2kfra8p0\\LocalCache\\local-packages\\Python311\\site-packages\\sklearn\\preprocessing\\_encoders.py:975: FutureWarning: `sparse` was renamed to `sparse_output` in version 1.2 and will be removed in 1.4. `sparse_output` is ignored unless you leave `sparse` to its default value.\n",
      "  warnings.warn(\n"
     ]
    }
   ],
   "source": [
    "# Load the Iris dataset\n",
    "iris = load_iris()\n",
    "X = iris.data\n",
    "y = iris.target.reshape(-1, 1)\n",
    "\n",
    "# One-hot encode the target variable\n",
    "encoder = OneHotEncoder(sparse=False)\n",
    "y = encoder.fit_transform(y)\n",
    "\n",
    "# Split the data into training and testing sets\n",
    "X_train, X_test, y_train, y_test = train_test_split(X, y, test_size=0.2, random_state=42)\n",
    "\n",
    "# Initialize the sigmoid neural network\n",
    "input_size = X_train.shape[1]\n",
    "hidden_size = 4\n",
    "output_size = y_train.shape[1]\n",
    "sigmoid_nn = SigmoidNeuralNetwork(input_size, hidden_size, output_size)\n",
    "\n",
    "# Initialize the softmax neural network\n",
    "softmax_nn = SoftmaxNeuralNetwork(input_size, hidden_size, output_size)\n",
    "\n",
    "# Training loop for sigmoid model\n",
    "sigmoid_loss_history = []\n",
    "for i in range(200):\n",
    "    sigmoid_nn.forward(X_train)\n",
    "    sigmoid_nn.backward(X_train, y_train)\n",
    "    loss = sigmoid_cross_entropy_loss(y_train, sigmoid_nn.forward(X_train))\n",
    "    sigmoid_loss_history.append(loss)\n",
    "\n",
    "# Training loop for softmax model\n",
    "softmax_loss_history = []\n",
    "for i in range(200):\n",
    "    softmax_nn.forward(X_train)\n",
    "    softmax_nn.backward(X_train, y_train)\n",
    "    loss = softmax_cross_entropy_loss(y_train, softmax_nn.forward(X_train))\n",
    "    softmax_loss_history.append(loss)"
   ]
  },
  {
   "cell_type": "code",
   "execution_count": 6,
   "id": "224b2e68-b049-45e0-96d4-d7996ecab518",
   "metadata": {},
   "outputs": [
    {
     "name": "stdout",
     "output_type": "stream",
     "text": [
      "Test Accuracy (Sigmoid): 0.6333333333333333\n",
      "Test Accuracy (Softmax): 0.9666666666666667\n"
     ]
    },
    {
     "data": {
      "image/png": "[encoded data removed]",
      "text/plain": [
       "<Figure size 640x480 with 1 Axes>"
      ]
     },
     "metadata": {},
     "output_type": "display_data"
    }
   ],
   "source": [
    "# Predict on the test set using sigmoid model\n",
    "y_pred_test_sigmoid = sigmoid_nn.predict(X_test)\n",
    "\n",
    "# Predict on the test set using softmax model\n",
    "y_pred_test_softmax = softmax_nn.predict(X_test)\n",
    "\n",
    "# Calculate accuracy for sigmoid model\n",
    "accuracy_sigmoid = np.mean(y_pred_test_sigmoid == np.argmax(y_test, axis=1))\n",
    "print(\"Test Accuracy (Sigmoid):\", accuracy_sigmoid)\n",
    "\n",
    "# Calculate accuracy for softmax model\n",
    "accuracy_softmax = np.mean(y_pred_test_softmax == np.argmax(y_test, axis=1))\n",
    "print(\"Test Accuracy (Softmax):\", accuracy_softmax)\n",
    "\n",
    "# Plot the loss curves\n",
    "plt.plot(sigmoid_loss_history, label='Sigmoid')\n",
    "plt.plot(softmax_loss_history, label='Softmax')\n",
    "plt.xlabel('Iterations')\n",
    "plt.ylabel('Loss')\n",
    "plt.title('Loss Curves')\n",
    "plt.legend()\n",
    "plt.show()\n"
   ]
  }
 ],
 "metadata": {
  "kernelspec": {
   "display_name": "Python 3 (ipykernel)",
   "language": "python",
   "name": "python3"
  },
  "language_info": {
   "codemirror_mode": {
    "name": "ipython",
    "version": 3
   },
   "file_extension": ".py",
   "mimetype": "text/x-python",
   "name": "python",
   "nbconvert_exporter": "python",
   "pygments_lexer": "ipython3",
   "version": "3.11.7"
  }
 },
 "nbformat": 4,
 "nbformat_minor": 5
}
